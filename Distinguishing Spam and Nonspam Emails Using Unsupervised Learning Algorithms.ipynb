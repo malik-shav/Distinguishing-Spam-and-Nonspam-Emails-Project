{
 "cells": [
  {
   "cell_type": "markdown",
   "id": "6e15f837-df3e-4a0a-99b5-7d4f2bb80d6c",
   "metadata": {},
   "source": [
    "## Distinguishing Spam and Nonspam Emails Using Unsupervised Learning Algorithms\n",
    "#### Summary:\n",
    "    - The objective of this task is to analyze the Spambase dataset and distinguish between spam and non-spam emails using unsupervised learning techniques. \n",
    "#### Data:\n",
    "    - The dataset contains frequency of certain words used in an email, percentage of a certain character that is included in an email, and average, sum and lenght of uninterrupted capital letters used. The data does contain a target variable, which will be ommited from the data due to the use of unsupervised learning. However, target variable will be used to calculate ARI score and will be compared to Silhoutte score. The data was collected using reported spam emails by individuals and non-spam emails came from reported personal emails. The data can be accessed from kaggle by accessing the link: https://www.kaggle.com/somesh24/spambase\n",
    "#### Methods: \n",
    "    - The analysis begins by understanding the variables, their data types, and if any missing values are present. Data is cleaned, processed, and analyzed using descriptive statistics and visualizations. Target variable is deleted to treat this task as an unsupervised learning. Variables are scaled and features are selected using PCA based on 95% data conservation. Scaled data will be applied to KMeans clustering algorithm to find optimum number of clusters using the elbow method and Silhouette Coefficient. Two reduced data's, from PCA and UMAP, will be applied to both KMeans and Hierarchical clustering algorithms. Total of 5 models is present. Models will be evaluated based on how well clusters are seperated visually, their Silhouette Coefficient, and ARI score.\n"
   ]
  },
  {
   "cell_type": "markdown",
   "id": "7a1892d1-e83c-4610-a055-411c6f6e5b01",
   "metadata": {
    "tags": []
   },
   "source": [
    "### Exploratory Data Analysis"
   ]
  },
  {
   "cell_type": "code",
   "execution_count": 1,
   "id": "189083d5-fd28-4f75-944e-2a0913737b13",
   "metadata": {},
   "outputs": [],
   "source": [
    "#Import Libraries\n",
    "import pandas as pd\n",
    "import numpy as np\n",
    "import scipy\n",
    "\n",
    "import matplotlib.pyplot as plt\n",
    "import seaborn as sns\n",
    "from scipy.cluster.hierarchy import dendrogram, linkage\n",
    "\n",
    "from sklearn.cluster import AgglomerativeClustering\n",
    "from sklearn.cluster import KMeans\n",
    "\n",
    "from sklearn.preprocessing import StandardScaler\n",
    "from sklearn.decomposition import PCA\n",
    "import umap\n",
    "\n",
    "#To calculate RI, AIR, and Silhouette Scores\n",
    "from sklearn import metrics"
   ]
  },
  {
   "cell_type": "code",
   "execution_count": 2,
   "id": "e62768d4-dcfb-4c53-90d1-711ae41ce3ee",
   "metadata": {},
   "outputs": [],
   "source": [
    "#Read and Load the Spambase dataset\n",
    "data=pd.read_csv(\"spambase.csv\")"
   ]
  },
  {
   "cell_type": "code",
   "execution_count": 3,
   "id": "8736f139-1115-4f12-8057-a61dc58d4fd0",
   "metadata": {},
   "outputs": [
    {
     "name": "stdout",
     "output_type": "stream",
     "text": [
      "<class 'pandas.core.frame.DataFrame'>\n",
      "RangeIndex: 4601 entries, 0 to 4600\n",
      "Data columns (total 58 columns):\n",
      " #   Column                      Non-Null Count  Dtype  \n",
      "---  ------                      --------------  -----  \n",
      " 0   word_freq_make              4601 non-null   float64\n",
      " 1   word_freq_address           4601 non-null   float64\n",
      " 2   word_freq_all               4601 non-null   float64\n",
      " 3   word_freq_3d                4601 non-null   float64\n",
      " 4   word_freq_our               4601 non-null   float64\n",
      " 5   word_freq_over              4601 non-null   float64\n",
      " 6   word_freq_remove            4601 non-null   float64\n",
      " 7   word_freq_internet          4601 non-null   float64\n",
      " 8   word_freq_order             4601 non-null   float64\n",
      " 9   word_freq_mail              4601 non-null   float64\n",
      " 10  word_freq_receive           4601 non-null   float64\n",
      " 11  word_freq_will              4601 non-null   float64\n",
      " 12  word_freq_people            4601 non-null   float64\n",
      " 13  word_freq_report            4601 non-null   float64\n",
      " 14  word_freq_addresses         4601 non-null   float64\n",
      " 15  word_freq_free              4601 non-null   float64\n",
      " 16  word_freq_business          4601 non-null   float64\n",
      " 17  word_freq_email             4601 non-null   float64\n",
      " 18  word_freq_you               4601 non-null   float64\n",
      " 19  word_freq_credit            4601 non-null   float64\n",
      " 20  word_freq_your              4601 non-null   float64\n",
      " 21  word_freq_font              4601 non-null   float64\n",
      " 22  word_freq_000               4601 non-null   float64\n",
      " 23  word_freq_money             4601 non-null   float64\n",
      " 24  word_freq_hp                4601 non-null   float64\n",
      " 25  word_freq_hpl               4601 non-null   float64\n",
      " 26  word_freq_george            4601 non-null   float64\n",
      " 27  word_freq_650               4601 non-null   float64\n",
      " 28  word_freq_lab               4601 non-null   float64\n",
      " 29  word_freq_labs              4601 non-null   float64\n",
      " 30  word_freq_telnet            4601 non-null   float64\n",
      " 31  word_freq_857               4601 non-null   float64\n",
      " 32  word_freq_data              4601 non-null   float64\n",
      " 33  word_freq_415               4601 non-null   float64\n",
      " 34  word_freq_85                4601 non-null   float64\n",
      " 35  word_freq_technology        4601 non-null   float64\n",
      " 36  word_freq_1999              4601 non-null   float64\n",
      " 37  word_freq_parts             4601 non-null   float64\n",
      " 38  word_freq_pm                4601 non-null   float64\n",
      " 39  word_freq_direct            4601 non-null   float64\n",
      " 40  word_freq_cs                4601 non-null   float64\n",
      " 41  word_freq_meeting           4601 non-null   float64\n",
      " 42  word_freq_original          4601 non-null   float64\n",
      " 43  word_freq_project           4601 non-null   float64\n",
      " 44  word_freq_re                4601 non-null   float64\n",
      " 45  word_freq_edu               4601 non-null   float64\n",
      " 46  word_freq_table             4601 non-null   float64\n",
      " 47  word_freq_conference        4601 non-null   float64\n",
      " 48  char_freq_%3B               4601 non-null   float64\n",
      " 49  char_freq_%28               4601 non-null   float64\n",
      " 50  char_freq_%5B               4601 non-null   float64\n",
      " 51  char_freq_%21               4601 non-null   float64\n",
      " 52  char_freq_%24               4601 non-null   float64\n",
      " 53  char_freq_%23               4601 non-null   float64\n",
      " 54  capital_run_length_average  4601 non-null   float64\n",
      " 55  capital_run_length_longest  4601 non-null   int64  \n",
      " 56  capital_run_length_total    4601 non-null   int64  \n",
      " 57  class                       4601 non-null   int64  \n",
      "dtypes: float64(55), int64(3)\n",
      "memory usage: 2.0 MB\n"
     ]
    },
    {
     "data": {
      "text/html": [
       "<div>\n",
       "<style scoped>\n",
       "    .dataframe tbody tr th:only-of-type {\n",
       "        vertical-align: middle;\n",
       "    }\n",
       "\n",
       "    .dataframe tbody tr th {\n",
       "        vertical-align: top;\n",
       "    }\n",
       "\n",
       "    .dataframe thead th {\n",
       "        text-align: right;\n",
       "    }\n",
       "</style>\n",
       "<table border=\"1\" class=\"dataframe\">\n",
       "  <thead>\n",
       "    <tr style=\"text-align: right;\">\n",
       "      <th></th>\n",
       "      <th>word_freq_make</th>\n",
       "      <th>word_freq_address</th>\n",
       "      <th>word_freq_all</th>\n",
       "      <th>word_freq_3d</th>\n",
       "      <th>word_freq_our</th>\n",
       "      <th>word_freq_over</th>\n",
       "      <th>word_freq_remove</th>\n",
       "      <th>word_freq_internet</th>\n",
       "      <th>word_freq_order</th>\n",
       "      <th>word_freq_mail</th>\n",
       "      <th>...</th>\n",
       "      <th>char_freq_%3B</th>\n",
       "      <th>char_freq_%28</th>\n",
       "      <th>char_freq_%5B</th>\n",
       "      <th>char_freq_%21</th>\n",
       "      <th>char_freq_%24</th>\n",
       "      <th>char_freq_%23</th>\n",
       "      <th>capital_run_length_average</th>\n",
       "      <th>capital_run_length_longest</th>\n",
       "      <th>capital_run_length_total</th>\n",
       "      <th>class</th>\n",
       "    </tr>\n",
       "  </thead>\n",
       "  <tbody>\n",
       "    <tr>\n",
       "      <th>0</th>\n",
       "      <td>0.00</td>\n",
       "      <td>0.64</td>\n",
       "      <td>0.64</td>\n",
       "      <td>0.0</td>\n",
       "      <td>0.32</td>\n",
       "      <td>0.00</td>\n",
       "      <td>0.00</td>\n",
       "      <td>0.00</td>\n",
       "      <td>0.00</td>\n",
       "      <td>0.00</td>\n",
       "      <td>...</td>\n",
       "      <td>0.00</td>\n",
       "      <td>0.000</td>\n",
       "      <td>0.0</td>\n",
       "      <td>0.778</td>\n",
       "      <td>0.000</td>\n",
       "      <td>0.000</td>\n",
       "      <td>3.756</td>\n",
       "      <td>61</td>\n",
       "      <td>278</td>\n",
       "      <td>1</td>\n",
       "    </tr>\n",
       "    <tr>\n",
       "      <th>1</th>\n",
       "      <td>0.21</td>\n",
       "      <td>0.28</td>\n",
       "      <td>0.50</td>\n",
       "      <td>0.0</td>\n",
       "      <td>0.14</td>\n",
       "      <td>0.28</td>\n",
       "      <td>0.21</td>\n",
       "      <td>0.07</td>\n",
       "      <td>0.00</td>\n",
       "      <td>0.94</td>\n",
       "      <td>...</td>\n",
       "      <td>0.00</td>\n",
       "      <td>0.132</td>\n",
       "      <td>0.0</td>\n",
       "      <td>0.372</td>\n",
       "      <td>0.180</td>\n",
       "      <td>0.048</td>\n",
       "      <td>5.114</td>\n",
       "      <td>101</td>\n",
       "      <td>1028</td>\n",
       "      <td>1</td>\n",
       "    </tr>\n",
       "    <tr>\n",
       "      <th>2</th>\n",
       "      <td>0.06</td>\n",
       "      <td>0.00</td>\n",
       "      <td>0.71</td>\n",
       "      <td>0.0</td>\n",
       "      <td>1.23</td>\n",
       "      <td>0.19</td>\n",
       "      <td>0.19</td>\n",
       "      <td>0.12</td>\n",
       "      <td>0.64</td>\n",
       "      <td>0.25</td>\n",
       "      <td>...</td>\n",
       "      <td>0.01</td>\n",
       "      <td>0.143</td>\n",
       "      <td>0.0</td>\n",
       "      <td>0.276</td>\n",
       "      <td>0.184</td>\n",
       "      <td>0.010</td>\n",
       "      <td>9.821</td>\n",
       "      <td>485</td>\n",
       "      <td>2259</td>\n",
       "      <td>1</td>\n",
       "    </tr>\n",
       "    <tr>\n",
       "      <th>3</th>\n",
       "      <td>0.00</td>\n",
       "      <td>0.00</td>\n",
       "      <td>0.00</td>\n",
       "      <td>0.0</td>\n",
       "      <td>0.63</td>\n",
       "      <td>0.00</td>\n",
       "      <td>0.31</td>\n",
       "      <td>0.63</td>\n",
       "      <td>0.31</td>\n",
       "      <td>0.63</td>\n",
       "      <td>...</td>\n",
       "      <td>0.00</td>\n",
       "      <td>0.137</td>\n",
       "      <td>0.0</td>\n",
       "      <td>0.137</td>\n",
       "      <td>0.000</td>\n",
       "      <td>0.000</td>\n",
       "      <td>3.537</td>\n",
       "      <td>40</td>\n",
       "      <td>191</td>\n",
       "      <td>1</td>\n",
       "    </tr>\n",
       "    <tr>\n",
       "      <th>4</th>\n",
       "      <td>0.00</td>\n",
       "      <td>0.00</td>\n",
       "      <td>0.00</td>\n",
       "      <td>0.0</td>\n",
       "      <td>0.63</td>\n",
       "      <td>0.00</td>\n",
       "      <td>0.31</td>\n",
       "      <td>0.63</td>\n",
       "      <td>0.31</td>\n",
       "      <td>0.63</td>\n",
       "      <td>...</td>\n",
       "      <td>0.00</td>\n",
       "      <td>0.135</td>\n",
       "      <td>0.0</td>\n",
       "      <td>0.135</td>\n",
       "      <td>0.000</td>\n",
       "      <td>0.000</td>\n",
       "      <td>3.537</td>\n",
       "      <td>40</td>\n",
       "      <td>191</td>\n",
       "      <td>1</td>\n",
       "    </tr>\n",
       "  </tbody>\n",
       "</table>\n",
       "<p>5 rows × 58 columns</p>\n",
       "</div>"
      ],
      "text/plain": [
       "   word_freq_make  word_freq_address  word_freq_all  word_freq_3d  \\\n",
       "0            0.00               0.64           0.64           0.0   \n",
       "1            0.21               0.28           0.50           0.0   \n",
       "2            0.06               0.00           0.71           0.0   \n",
       "3            0.00               0.00           0.00           0.0   \n",
       "4            0.00               0.00           0.00           0.0   \n",
       "\n",
       "   word_freq_our  word_freq_over  word_freq_remove  word_freq_internet  \\\n",
       "0           0.32            0.00              0.00                0.00   \n",
       "1           0.14            0.28              0.21                0.07   \n",
       "2           1.23            0.19              0.19                0.12   \n",
       "3           0.63            0.00              0.31                0.63   \n",
       "4           0.63            0.00              0.31                0.63   \n",
       "\n",
       "   word_freq_order  word_freq_mail  ...  char_freq_%3B  char_freq_%28  \\\n",
       "0             0.00            0.00  ...           0.00          0.000   \n",
       "1             0.00            0.94  ...           0.00          0.132   \n",
       "2             0.64            0.25  ...           0.01          0.143   \n",
       "3             0.31            0.63  ...           0.00          0.137   \n",
       "4             0.31            0.63  ...           0.00          0.135   \n",
       "\n",
       "   char_freq_%5B  char_freq_%21  char_freq_%24  char_freq_%23  \\\n",
       "0            0.0          0.778          0.000          0.000   \n",
       "1            0.0          0.372          0.180          0.048   \n",
       "2            0.0          0.276          0.184          0.010   \n",
       "3            0.0          0.137          0.000          0.000   \n",
       "4            0.0          0.135          0.000          0.000   \n",
       "\n",
       "   capital_run_length_average  capital_run_length_longest  \\\n",
       "0                       3.756                          61   \n",
       "1                       5.114                         101   \n",
       "2                       9.821                         485   \n",
       "3                       3.537                          40   \n",
       "4                       3.537                          40   \n",
       "\n",
       "   capital_run_length_total  class  \n",
       "0                       278      1  \n",
       "1                      1028      1  \n",
       "2                      2259      1  \n",
       "3                       191      1  \n",
       "4                       191      1  \n",
       "\n",
       "[5 rows x 58 columns]"
      ]
     },
     "execution_count": 3,
     "metadata": {},
     "output_type": "execute_result"
    }
   ],
   "source": [
    "#Get information about the data\n",
    "data.info()\n",
    "data.head()"
   ]
  },
  {
   "cell_type": "markdown",
   "id": "eb685fcc-b102-43ef-a837-08a80e8a929c",
   "metadata": {},
   "source": [
    "Data is compomised of all numerical values. The value class denotes if an email is spam or not smap, represented by 1 and 0, respectively. "
   ]
  },
  {
   "cell_type": "code",
   "execution_count": 4,
   "id": "88d2966c-467b-492e-8a49-bbbc0a27b761",
   "metadata": {},
   "outputs": [
    {
     "data": {
      "text/plain": [
       "word_freq_make                0\n",
       "word_freq_address             0\n",
       "word_freq_all                 0\n",
       "word_freq_3d                  0\n",
       "word_freq_our                 0\n",
       "word_freq_over                0\n",
       "word_freq_remove              0\n",
       "word_freq_internet            0\n",
       "word_freq_order               0\n",
       "word_freq_mail                0\n",
       "word_freq_receive             0\n",
       "word_freq_will                0\n",
       "word_freq_people              0\n",
       "word_freq_report              0\n",
       "word_freq_addresses           0\n",
       "word_freq_free                0\n",
       "word_freq_business            0\n",
       "word_freq_email               0\n",
       "word_freq_you                 0\n",
       "word_freq_credit              0\n",
       "word_freq_your                0\n",
       "word_freq_font                0\n",
       "word_freq_000                 0\n",
       "word_freq_money               0\n",
       "word_freq_hp                  0\n",
       "word_freq_hpl                 0\n",
       "word_freq_george              0\n",
       "word_freq_650                 0\n",
       "word_freq_lab                 0\n",
       "word_freq_labs                0\n",
       "word_freq_telnet              0\n",
       "word_freq_857                 0\n",
       "word_freq_data                0\n",
       "word_freq_415                 0\n",
       "word_freq_85                  0\n",
       "word_freq_technology          0\n",
       "word_freq_1999                0\n",
       "word_freq_parts               0\n",
       "word_freq_pm                  0\n",
       "word_freq_direct              0\n",
       "word_freq_cs                  0\n",
       "word_freq_meeting             0\n",
       "word_freq_original            0\n",
       "word_freq_project             0\n",
       "word_freq_re                  0\n",
       "word_freq_edu                 0\n",
       "word_freq_table               0\n",
       "word_freq_conference          0\n",
       "char_freq_%3B                 0\n",
       "char_freq_%28                 0\n",
       "char_freq_%5B                 0\n",
       "char_freq_%21                 0\n",
       "char_freq_%24                 0\n",
       "char_freq_%23                 0\n",
       "capital_run_length_average    0\n",
       "capital_run_length_longest    0\n",
       "capital_run_length_total      0\n",
       "class                         0\n",
       "dtype: int64"
      ]
     },
     "execution_count": 4,
     "metadata": {},
     "output_type": "execute_result"
    }
   ],
   "source": [
    "#Lets double check if there are any null values\n",
    "data.isnull().sum()"
   ]
  },
  {
   "cell_type": "markdown",
   "id": "ade35d25-5418-42d7-80a0-078b554a32e6",
   "metadata": {},
   "source": [
    "Data does not have any missing values. "
   ]
  },
  {
   "cell_type": "code",
   "execution_count": 5,
   "id": "05e64f32-8472-4cf3-88a7-e013cea42e81",
   "metadata": {},
   "outputs": [
    {
     "data": {
      "text/plain": [
       "(4601, 58)"
      ]
     },
     "execution_count": 5,
     "metadata": {},
     "output_type": "execute_result"
    }
   ],
   "source": [
    "#Check the size of the data we will be working on\n",
    "data.shape"
   ]
  },
  {
   "cell_type": "markdown",
   "id": "d02291ff-0f3a-43e2-af9b-de08c9460186",
   "metadata": {},
   "source": [
    "Data contains 4601 rows and 58 variables."
   ]
  },
  {
   "cell_type": "code",
   "execution_count": 6,
   "id": "a4d137d9-307b-4dcd-a6dc-b5681b9c9c37",
   "metadata": {},
   "outputs": [
    {
     "data": {
      "text/html": [
       "<div>\n",
       "<style scoped>\n",
       "    .dataframe tbody tr th:only-of-type {\n",
       "        vertical-align: middle;\n",
       "    }\n",
       "\n",
       "    .dataframe tbody tr th {\n",
       "        vertical-align: top;\n",
       "    }\n",
       "\n",
       "    .dataframe thead th {\n",
       "        text-align: right;\n",
       "    }\n",
       "</style>\n",
       "<table border=\"1\" class=\"dataframe\">\n",
       "  <thead>\n",
       "    <tr style=\"text-align: right;\">\n",
       "      <th></th>\n",
       "      <th>word_freq_make</th>\n",
       "      <th>word_freq_address</th>\n",
       "      <th>word_freq_all</th>\n",
       "      <th>word_freq_3d</th>\n",
       "      <th>word_freq_our</th>\n",
       "      <th>word_freq_over</th>\n",
       "      <th>word_freq_remove</th>\n",
       "      <th>word_freq_internet</th>\n",
       "      <th>word_freq_order</th>\n",
       "      <th>word_freq_mail</th>\n",
       "      <th>...</th>\n",
       "      <th>char_freq_%3B</th>\n",
       "      <th>char_freq_%28</th>\n",
       "      <th>char_freq_%5B</th>\n",
       "      <th>char_freq_%21</th>\n",
       "      <th>char_freq_%24</th>\n",
       "      <th>char_freq_%23</th>\n",
       "      <th>capital_run_length_average</th>\n",
       "      <th>capital_run_length_longest</th>\n",
       "      <th>capital_run_length_total</th>\n",
       "      <th>class</th>\n",
       "    </tr>\n",
       "  </thead>\n",
       "  <tbody>\n",
       "    <tr>\n",
       "      <th>count</th>\n",
       "      <td>4601.000000</td>\n",
       "      <td>4601.000000</td>\n",
       "      <td>4601.000000</td>\n",
       "      <td>4601.000000</td>\n",
       "      <td>4601.000000</td>\n",
       "      <td>4601.000000</td>\n",
       "      <td>4601.000000</td>\n",
       "      <td>4601.000000</td>\n",
       "      <td>4601.000000</td>\n",
       "      <td>4601.000000</td>\n",
       "      <td>...</td>\n",
       "      <td>4601.000000</td>\n",
       "      <td>4601.000000</td>\n",
       "      <td>4601.000000</td>\n",
       "      <td>4601.000000</td>\n",
       "      <td>4601.000000</td>\n",
       "      <td>4601.000000</td>\n",
       "      <td>4601.000000</td>\n",
       "      <td>4601.000000</td>\n",
       "      <td>4601.000000</td>\n",
       "      <td>4601.000000</td>\n",
       "    </tr>\n",
       "    <tr>\n",
       "      <th>mean</th>\n",
       "      <td>0.104553</td>\n",
       "      <td>0.213015</td>\n",
       "      <td>0.280656</td>\n",
       "      <td>0.065425</td>\n",
       "      <td>0.312223</td>\n",
       "      <td>0.095901</td>\n",
       "      <td>0.114208</td>\n",
       "      <td>0.105295</td>\n",
       "      <td>0.090067</td>\n",
       "      <td>0.239413</td>\n",
       "      <td>...</td>\n",
       "      <td>0.038575</td>\n",
       "      <td>0.139030</td>\n",
       "      <td>0.016976</td>\n",
       "      <td>0.269071</td>\n",
       "      <td>0.075811</td>\n",
       "      <td>0.044238</td>\n",
       "      <td>5.191515</td>\n",
       "      <td>52.172789</td>\n",
       "      <td>283.289285</td>\n",
       "      <td>0.394045</td>\n",
       "    </tr>\n",
       "    <tr>\n",
       "      <th>std</th>\n",
       "      <td>0.305358</td>\n",
       "      <td>1.290575</td>\n",
       "      <td>0.504143</td>\n",
       "      <td>1.395151</td>\n",
       "      <td>0.672513</td>\n",
       "      <td>0.273824</td>\n",
       "      <td>0.391441</td>\n",
       "      <td>0.401071</td>\n",
       "      <td>0.278616</td>\n",
       "      <td>0.644755</td>\n",
       "      <td>...</td>\n",
       "      <td>0.243471</td>\n",
       "      <td>0.270355</td>\n",
       "      <td>0.109394</td>\n",
       "      <td>0.815672</td>\n",
       "      <td>0.245882</td>\n",
       "      <td>0.429342</td>\n",
       "      <td>31.729449</td>\n",
       "      <td>194.891310</td>\n",
       "      <td>606.347851</td>\n",
       "      <td>0.488698</td>\n",
       "    </tr>\n",
       "    <tr>\n",
       "      <th>min</th>\n",
       "      <td>0.000000</td>\n",
       "      <td>0.000000</td>\n",
       "      <td>0.000000</td>\n",
       "      <td>0.000000</td>\n",
       "      <td>0.000000</td>\n",
       "      <td>0.000000</td>\n",
       "      <td>0.000000</td>\n",
       "      <td>0.000000</td>\n",
       "      <td>0.000000</td>\n",
       "      <td>0.000000</td>\n",
       "      <td>...</td>\n",
       "      <td>0.000000</td>\n",
       "      <td>0.000000</td>\n",
       "      <td>0.000000</td>\n",
       "      <td>0.000000</td>\n",
       "      <td>0.000000</td>\n",
       "      <td>0.000000</td>\n",
       "      <td>1.000000</td>\n",
       "      <td>1.000000</td>\n",
       "      <td>1.000000</td>\n",
       "      <td>0.000000</td>\n",
       "    </tr>\n",
       "    <tr>\n",
       "      <th>25%</th>\n",
       "      <td>0.000000</td>\n",
       "      <td>0.000000</td>\n",
       "      <td>0.000000</td>\n",
       "      <td>0.000000</td>\n",
       "      <td>0.000000</td>\n",
       "      <td>0.000000</td>\n",
       "      <td>0.000000</td>\n",
       "      <td>0.000000</td>\n",
       "      <td>0.000000</td>\n",
       "      <td>0.000000</td>\n",
       "      <td>...</td>\n",
       "      <td>0.000000</td>\n",
       "      <td>0.000000</td>\n",
       "      <td>0.000000</td>\n",
       "      <td>0.000000</td>\n",
       "      <td>0.000000</td>\n",
       "      <td>0.000000</td>\n",
       "      <td>1.588000</td>\n",
       "      <td>6.000000</td>\n",
       "      <td>35.000000</td>\n",
       "      <td>0.000000</td>\n",
       "    </tr>\n",
       "    <tr>\n",
       "      <th>50%</th>\n",
       "      <td>0.000000</td>\n",
       "      <td>0.000000</td>\n",
       "      <td>0.000000</td>\n",
       "      <td>0.000000</td>\n",
       "      <td>0.000000</td>\n",
       "      <td>0.000000</td>\n",
       "      <td>0.000000</td>\n",
       "      <td>0.000000</td>\n",
       "      <td>0.000000</td>\n",
       "      <td>0.000000</td>\n",
       "      <td>...</td>\n",
       "      <td>0.000000</td>\n",
       "      <td>0.065000</td>\n",
       "      <td>0.000000</td>\n",
       "      <td>0.000000</td>\n",
       "      <td>0.000000</td>\n",
       "      <td>0.000000</td>\n",
       "      <td>2.276000</td>\n",
       "      <td>15.000000</td>\n",
       "      <td>95.000000</td>\n",
       "      <td>0.000000</td>\n",
       "    </tr>\n",
       "    <tr>\n",
       "      <th>75%</th>\n",
       "      <td>0.000000</td>\n",
       "      <td>0.000000</td>\n",
       "      <td>0.420000</td>\n",
       "      <td>0.000000</td>\n",
       "      <td>0.380000</td>\n",
       "      <td>0.000000</td>\n",
       "      <td>0.000000</td>\n",
       "      <td>0.000000</td>\n",
       "      <td>0.000000</td>\n",
       "      <td>0.160000</td>\n",
       "      <td>...</td>\n",
       "      <td>0.000000</td>\n",
       "      <td>0.188000</td>\n",
       "      <td>0.000000</td>\n",
       "      <td>0.315000</td>\n",
       "      <td>0.052000</td>\n",
       "      <td>0.000000</td>\n",
       "      <td>3.706000</td>\n",
       "      <td>43.000000</td>\n",
       "      <td>266.000000</td>\n",
       "      <td>1.000000</td>\n",
       "    </tr>\n",
       "    <tr>\n",
       "      <th>max</th>\n",
       "      <td>4.540000</td>\n",
       "      <td>14.280000</td>\n",
       "      <td>5.100000</td>\n",
       "      <td>42.810000</td>\n",
       "      <td>10.000000</td>\n",
       "      <td>5.880000</td>\n",
       "      <td>7.270000</td>\n",
       "      <td>11.110000</td>\n",
       "      <td>5.260000</td>\n",
       "      <td>18.180000</td>\n",
       "      <td>...</td>\n",
       "      <td>4.385000</td>\n",
       "      <td>9.752000</td>\n",
       "      <td>4.081000</td>\n",
       "      <td>32.478000</td>\n",
       "      <td>6.003000</td>\n",
       "      <td>19.829000</td>\n",
       "      <td>1102.500000</td>\n",
       "      <td>9989.000000</td>\n",
       "      <td>15841.000000</td>\n",
       "      <td>1.000000</td>\n",
       "    </tr>\n",
       "  </tbody>\n",
       "</table>\n",
       "<p>8 rows × 58 columns</p>\n",
       "</div>"
      ],
      "text/plain": [
       "       word_freq_make  word_freq_address  word_freq_all  word_freq_3d  \\\n",
       "count     4601.000000        4601.000000    4601.000000   4601.000000   \n",
       "mean         0.104553           0.213015       0.280656      0.065425   \n",
       "std          0.305358           1.290575       0.504143      1.395151   \n",
       "min          0.000000           0.000000       0.000000      0.000000   \n",
       "25%          0.000000           0.000000       0.000000      0.000000   \n",
       "50%          0.000000           0.000000       0.000000      0.000000   \n",
       "75%          0.000000           0.000000       0.420000      0.000000   \n",
       "max          4.540000          14.280000       5.100000     42.810000   \n",
       "\n",
       "       word_freq_our  word_freq_over  word_freq_remove  word_freq_internet  \\\n",
       "count    4601.000000     4601.000000       4601.000000         4601.000000   \n",
       "mean        0.312223        0.095901          0.114208            0.105295   \n",
       "std         0.672513        0.273824          0.391441            0.401071   \n",
       "min         0.000000        0.000000          0.000000            0.000000   \n",
       "25%         0.000000        0.000000          0.000000            0.000000   \n",
       "50%         0.000000        0.000000          0.000000            0.000000   \n",
       "75%         0.380000        0.000000          0.000000            0.000000   \n",
       "max        10.000000        5.880000          7.270000           11.110000   \n",
       "\n",
       "       word_freq_order  word_freq_mail  ...  char_freq_%3B  char_freq_%28  \\\n",
       "count      4601.000000     4601.000000  ...    4601.000000    4601.000000   \n",
       "mean          0.090067        0.239413  ...       0.038575       0.139030   \n",
       "std           0.278616        0.644755  ...       0.243471       0.270355   \n",
       "min           0.000000        0.000000  ...       0.000000       0.000000   \n",
       "25%           0.000000        0.000000  ...       0.000000       0.000000   \n",
       "50%           0.000000        0.000000  ...       0.000000       0.065000   \n",
       "75%           0.000000        0.160000  ...       0.000000       0.188000   \n",
       "max           5.260000       18.180000  ...       4.385000       9.752000   \n",
       "\n",
       "       char_freq_%5B  char_freq_%21  char_freq_%24  char_freq_%23  \\\n",
       "count    4601.000000    4601.000000    4601.000000    4601.000000   \n",
       "mean        0.016976       0.269071       0.075811       0.044238   \n",
       "std         0.109394       0.815672       0.245882       0.429342   \n",
       "min         0.000000       0.000000       0.000000       0.000000   \n",
       "25%         0.000000       0.000000       0.000000       0.000000   \n",
       "50%         0.000000       0.000000       0.000000       0.000000   \n",
       "75%         0.000000       0.315000       0.052000       0.000000   \n",
       "max         4.081000      32.478000       6.003000      19.829000   \n",
       "\n",
       "       capital_run_length_average  capital_run_length_longest  \\\n",
       "count                 4601.000000                 4601.000000   \n",
       "mean                     5.191515                   52.172789   \n",
       "std                     31.729449                  194.891310   \n",
       "min                      1.000000                    1.000000   \n",
       "25%                      1.588000                    6.000000   \n",
       "50%                      2.276000                   15.000000   \n",
       "75%                      3.706000                   43.000000   \n",
       "max                   1102.500000                 9989.000000   \n",
       "\n",
       "       capital_run_length_total        class  \n",
       "count               4601.000000  4601.000000  \n",
       "mean                 283.289285     0.394045  \n",
       "std                  606.347851     0.488698  \n",
       "min                    1.000000     0.000000  \n",
       "25%                   35.000000     0.000000  \n",
       "50%                   95.000000     0.000000  \n",
       "75%                  266.000000     1.000000  \n",
       "max                15841.000000     1.000000  \n",
       "\n",
       "[8 rows x 58 columns]"
      ]
     },
     "execution_count": 6,
     "metadata": {},
     "output_type": "execute_result"
    }
   ],
   "source": [
    "#Lets get statistics of the data\n",
    "data.describe()"
   ]
  },
  {
   "cell_type": "markdown",
   "id": "2f369664-3cd7-42c9-be36-67f6c9c8c1f1",
   "metadata": {},
   "source": [
    "Based on the large values shown by the last few variables, this dataset needs to be scaled to apply clustering algorithms, which we will do later on."
   ]
  },
  {
   "cell_type": "code",
   "execution_count": 7,
   "id": "d7c948df-9d87-4e78-87b4-b16d4add1d22",
   "metadata": {},
   "outputs": [
    {
     "data": {
      "image/png": "[encoded data removed]",
      "text/plain": [
       "<Figure size 432x288 with 1 Axes>"
      ]
     },
     "metadata": {
      "needs_background": "light"
     },
     "output_type": "display_data"
    },
    {
     "name": "stdout",
     "output_type": "stream",
     "text": [
      "Number of non-spam emails:  2788\n",
      "Number of spam emails:  1813\n",
      "Percentage of spam emails in the data: 39.4 %\n"
     ]
    }
   ],
   "source": [
    "#Lets analyze our target variable\n",
    "data['class'].value_counts().plot.bar(color=['green','red'], width=0.3)\n",
    "plt.ylabel('Count')\n",
    "plt.title('Class Distribution')\n",
    "plt.show()\n",
    "\n",
    "print(\"Number of non-spam emails: \",len(data[data['class']==0]))\n",
    "print(\"Number of spam emails: \",len(data[data['class']==1]))\n",
    "\n",
    "print(\"Percentage of spam emails in the data:\", str(round(100*len(data[data['class']==1])/len(data),2)),\"%\")"
   ]
  },
  {
   "cell_type": "markdown",
   "id": "a2458c59-abc7-4ce8-ab8b-7f3bcdd4c445",
   "metadata": {},
   "source": [
    "Number of spam emails only account for 39.4% of the whole data. We will compare this to our predicted values using ARI calculation."
   ]
  },
  {
   "cell_type": "code",
   "execution_count": 8,
   "id": "5be92386-37c4-465b-9e7f-e5afcaadb20b",
   "metadata": {
    "tags": []
   },
   "outputs": [],
   "source": [
    "#Drop the target variable\n",
    "X=data.drop(columns=['class'], axis=1)\n",
    "true_label=data['class'] #save true labels for later comparison"
   ]
  },
  {
   "cell_type": "code",
   "execution_count": 9,
   "id": "ab843d3c-097a-4195-b226-96a1e9fda993",
   "metadata": {},
   "outputs": [
    {
     "data": {
      "image/png": "[encoded data removed]",
      "text/plain": [
       "<Figure size 1440x1440 with 57 Axes>"
      ]
     },
     "metadata": {
      "needs_background": "light"
     },
     "output_type": "display_data"
    }
   ],
   "source": [
    "# Visualize the distribution of each variable\n",
    "a=1\n",
    "plt.figure(figsize=(20,20))\n",
    "for col in list(X.columns):\n",
    "    plt.subplot(6,round(len(X.columns)/6), a)\n",
    "    sns.histplot(data=X, x=col, bins=20)\n",
    "    a=a+1\n",
    "plt.tight_layout()"
   ]
  },
  {
   "cell_type": "code",
   "execution_count": 10,
   "id": "04d91452-229e-4a83-9419-c501c949f591",
   "metadata": {},
   "outputs": [
    {
     "data": {
      "text/plain": [
       "word_freq_you       7647.32\n",
       "word_freq_your      3725.71\n",
       "word_freq_george    3530.37\n",
       "word_freq_hp        2528.27\n",
       "word_freq_will      2492.37\n",
       "dtype: float64"
      ]
     },
     "execution_count": 10,
     "metadata": {},
     "output_type": "execute_result"
    }
   ],
   "source": [
    "#Analyzing highest 5 used words\n",
    "X.sum().sort_values(ascending=False).iloc[3:8]"
   ]
  },
  {
   "cell_type": "markdown",
   "id": "478f221a-9683-4590-b307-10278e3e43c1",
   "metadata": {},
   "source": [
    "Based on the frequency distributions, amount of used words on each email sent were \"you, your, george, hp, will\"."
   ]
  },
  {
   "cell_type": "markdown",
   "id": "95fb482b-519d-47ed-a230-094a040cc0a4",
   "metadata": {},
   "source": [
    "Because we are trying to seperate emails in to spam and not spam category, we assume that two cluster need to be established. However, we will still test to see how many clusters we can make. "
   ]
  },
  {
   "cell_type": "code",
   "execution_count": 11,
   "id": "52541864-5310-4091-bd6e-2e83e4f03931",
   "metadata": {},
   "outputs": [
    {
     "data": {
      "text/html": [
       "<div>\n",
       "<style scoped>\n",
       "    .dataframe tbody tr th:only-of-type {\n",
       "        vertical-align: middle;\n",
       "    }\n",
       "\n",
       "    .dataframe tbody tr th {\n",
       "        vertical-align: top;\n",
       "    }\n",
       "\n",
       "    .dataframe thead th {\n",
       "        text-align: right;\n",
       "    }\n",
       "</style>\n",
       "<table border=\"1\" class=\"dataframe\">\n",
       "  <thead>\n",
       "    <tr style=\"text-align: right;\">\n",
       "      <th>class</th>\n",
       "      <th>0</th>\n",
       "      <th>1</th>\n",
       "    </tr>\n",
       "  </thead>\n",
       "  <tbody>\n",
       "    <tr>\n",
       "      <th>word_freq_you</th>\n",
       "      <td>3541.71</td>\n",
       "      <td>4105.61</td>\n",
       "    </tr>\n",
       "    <tr>\n",
       "      <th>word_freq_your</th>\n",
       "      <td>1223.10</td>\n",
       "      <td>2502.61</td>\n",
       "    </tr>\n",
       "    <tr>\n",
       "      <th>word_freq_will</th>\n",
       "      <td>1495.27</td>\n",
       "      <td>997.10</td>\n",
       "    </tr>\n",
       "    <tr>\n",
       "      <th>word_freq_free</th>\n",
       "      <td>205.16</td>\n",
       "      <td>939.79</td>\n",
       "    </tr>\n",
       "    <tr>\n",
       "      <th>word_freq_our</th>\n",
       "      <td>504.74</td>\n",
       "      <td>931.80</td>\n",
       "    </tr>\n",
       "  </tbody>\n",
       "</table>\n",
       "</div>"
      ],
      "text/plain": [
       "class                 0        1\n",
       "word_freq_you   3541.71  4105.61\n",
       "word_freq_your  1223.10  2502.61\n",
       "word_freq_will  1495.27   997.10\n",
       "word_freq_free   205.16   939.79\n",
       "word_freq_our    504.74   931.80"
      ]
     },
     "execution_count": 11,
     "metadata": {},
     "output_type": "execute_result"
    }
   ],
   "source": [
    "b=data.groupby(\"class\").sum().T.sort_values(by=[1],ascending=False).iloc[3:8]\n",
    "b"
   ]
  },
  {
   "cell_type": "code",
   "execution_count": 12,
   "id": "4d7b5d30-3619-476c-96de-beeb8a20f580",
   "metadata": {
    "tags": []
   },
   "outputs": [],
   "source": [
    "zero=b[0].values\n",
    "one=b[1].values"
   ]
  },
  {
   "cell_type": "code",
   "execution_count": 13,
   "id": "0df9e8f6-8a34-4e81-9c20-97d37d391768",
   "metadata": {},
   "outputs": [
    {
     "data": {
      "image/png": "[encoded data removed]",
      "text/plain": [
       "<Figure size 432x288 with 1 Axes>"
      ]
     },
     "metadata": {
      "needs_background": "light"
     },
     "output_type": "display_data"
    }
   ],
   "source": [
    "#Bivariate Analysis of spam and nonspam emails based on frequency of words used\n",
    "plt.bar(np.arange(len(zero)),zero, width=0.3, label='zero')\n",
    "plt.bar(np.arange(len(zero))+0.3,one, width=0.3, label='one')\n",
    "plt.xticks(np.arange(5)+0.15, b.index, rotation=45)\n",
    "plt.legend()\n",
    "plt.show()"
   ]
  },
  {
   "cell_type": "markdown",
   "id": "ebb034fd-dda4-47d7-ac35-202699f19f18",
   "metadata": {},
   "source": [
    "The graph above shows the use of words \"you, your, free, and our\", favors more a spam email than nonspam."
   ]
  },
  {
   "cell_type": "code",
   "execution_count": 14,
   "id": "f1e4de0a-5704-40ea-a844-90b1ac577196",
   "metadata": {},
   "outputs": [
    {
     "data": {
      "text/plain": [
       "word_freq_make                  word_freq_your\n",
       "word_freq_address                word_freq_you\n",
       "word_freq_all                   word_freq_your\n",
       "word_freq_3d                   word_freq_money\n",
       "word_freq_our                 word_freq_remove\n",
       "word_freq_over                   word_freq_000\n",
       "word_freq_remove            word_freq_business\n",
       "word_freq_internet          word_freq_business\n",
       "word_freq_order       capital_run_length_total\n",
       "word_freq_mail             word_freq_addresses\n",
       "dtype: object"
      ]
     },
     "execution_count": 14,
     "metadata": {},
     "output_type": "execute_result"
    }
   ],
   "source": [
    "#Looking at first 10 highest correlated variables\n",
    "corr_mat=X.corr()\n",
    "for x in range(len(X.columns)):\n",
    "    corr_mat.iloc[x,x] = 0.0\n",
    "    \n",
    "corr_mat.abs().idxmax().head(10)"
   ]
  },
  {
   "cell_type": "code",
   "execution_count": 15,
   "id": "f4a6e3b7-8d4c-473a-abc7-3fc0bf7c8d7e",
   "metadata": {},
   "outputs": [
    {
     "data": {
      "text/plain": [
       "48"
      ]
     },
     "execution_count": 15,
     "metadata": {},
     "output_type": "execute_result"
    }
   ],
   "source": [
    "#Prepocessing: Scale the data due to sensitivity of clustering algorithms to distance.\n",
    "scaled=StandardScaler()\n",
    "X_scaled=scaled.fit_transform(X)\n",
    "\n",
    "#PCA Data to capture linear relationship between variables\n",
    "pca=PCA(n_components=0.95, random_state=56) \n",
    "pca_data=pca.fit_transform(X_scaled)\n",
    "\n",
    "pca.n_components_"
   ]
  },
  {
   "cell_type": "markdown",
   "id": "00f52ca4-da82-4159-8727-466927a60e80",
   "metadata": {},
   "source": [
    "48 components needed to conserve 95% of the variance from the original data. Will use this value for UMAP dimensionality reduction to compare to PCA data."
   ]
  },
  {
   "cell_type": "code",
   "execution_count": 16,
   "id": "48bbb4e6-700f-4c88-9698-eaabf69cde57",
   "metadata": {},
   "outputs": [],
   "source": [
    "#UMAP Data to capture non-linear relationship between variables\n",
    "umap_data = umap.UMAP(n_neighbors=5,\n",
    "                      min_dist=0.3,\n",
    "                      n_components=48,\n",
    "                      metric='correlation',\n",
    "                      random_state=56).fit_transform(X_scaled)"
   ]
  },
  {
   "cell_type": "code",
   "execution_count": 17,
   "id": "92846e98-211e-4a2d-830c-00ab35b3c06c",
   "metadata": {},
   "outputs": [],
   "source": [
    "#Functions to Evaluate Clusters for KMeans\n",
    "\n",
    "def display_cluster(data, model, num_clusters=0):\n",
    "    color = 'brgcmyk'\n",
    "    alpha = 0.5\n",
    "    s = 20\n",
    "    for i in range(num_clusters):\n",
    "        plt.scatter(data[model.labels_==i,0],data[model.labels_==i,1],c = color[i],alpha = alpha,s=s)\n",
    "        plt.scatter(model.cluster_centers_[i][0],model.cluster_centers_[i][1],c = color[i], marker = 'x', s = 100)"
   ]
  },
  {
   "cell_type": "code",
   "execution_count": 18,
   "id": "903094d0-c2da-4d51-9d9d-042c5ff3b89e",
   "metadata": {},
   "outputs": [],
   "source": [
    "#Function to calcualte Silhouette and ARI scores.\n",
    "\n",
    "Silhouette_Scores=pd.DataFrame() #DataFrames to hold scores for each model.\n",
    "ARI_Scores=pd.DataFrame()\n",
    "\n",
    "def scores(data, model, true, model_name):\n",
    "    sil_score=metrics.silhouette_score(data, model.labels_, metric='euclidean')\n",
    "    ari_score=metrics.adjusted_rand_score(true_label, model.labels_)\n",
    "    Silhouette_Scores[model_name]=[sil_score]\n",
    "    ARI_Scores[model_name]=[ari_score]\n",
    "    print(model_name,\" Silhouette Score:\",sil_score)\n",
    "    print(model_name,\" ARI Score:\",ari_score)"
   ]
  },
  {
   "cell_type": "code",
   "execution_count": 19,
   "id": "6748e255-7c1d-4a36-a6e5-27e221f66a84",
   "metadata": {},
   "outputs": [],
   "source": [
    "#Model Functions\n",
    "def kmeans(data, n_clusters): #Function to compute KMeans\n",
    "    kmeans=KMeans(n_clusters=n_clusters, random_state=44)\n",
    "    kmeans.fit(data)\n",
    "    print(pd.DataFrame(kmeans.labels_).value_counts())\n",
    "    return kmeans\n",
    "\n",
    "def hierarchical(data,n_clusters, linkage): #Function to compute Hierarchical \n",
    "    agg_cluster=AgglomerativeClustering(n_clusters=n_clusters, linkage=linkage)\n",
    "    agg_cluster.fit(data)\n",
    "    print(pd.DataFrame(agg_cluster.labels_).value_counts())\n",
    "    return agg_cluster"
   ]
  },
  {
   "cell_type": "markdown",
   "id": "c5b13f55-29cb-4686-beb0-a0470ae81777",
   "metadata": {},
   "source": [
    "## Modeling"
   ]
  },
  {
   "cell_type": "markdown",
   "id": "32e4399f-56b9-416a-9b1a-0e547f4022f8",
   "metadata": {
    "tags": []
   },
   "source": [
    "### Model 1 to Evaluate a basic KMeans Model and to Identify Optimum Number of Clusters\n",
    "Preliminary model uses KMeans algorithms set to 2 clusters with scaled data."
   ]
  },
  {
   "cell_type": "code",
   "execution_count": 20,
   "id": "42f3cd41-c7f4-4b88-b868-43b351194b8a",
   "metadata": {},
   "outputs": [
    {
     "name": "stdout",
     "output_type": "stream",
     "text": [
      "1    4567\n",
      "0      34\n",
      "dtype: int64\n"
     ]
    }
   ],
   "source": [
    "#Call Kmeans\n",
    "kmeans_mod1=kmeans(X_scaled, 2)"
   ]
  },
  {
   "cell_type": "code",
   "execution_count": 21,
   "id": "448546a5-7265-476f-a58d-159bf4a091db",
   "metadata": {},
   "outputs": [
    {
     "data": {
      "image/png": "[encoded data removed]",
      "text/plain": [
       "<Figure size 432x288 with 1 Axes>"
      ]
     },
     "metadata": {
      "needs_background": "light"
     },
     "output_type": "display_data"
    }
   ],
   "source": [
    "#Visualizing clusters\n",
    "display_cluster(X_scaled, kmeans_mod1,2)"
   ]
  },
  {
   "cell_type": "code",
   "execution_count": 22,
   "id": "42edea13-121c-4d11-9ab7-8d60261638f7",
   "metadata": {},
   "outputs": [
    {
     "name": "stdout",
     "output_type": "stream",
     "text": [
      "Model 1  Silhouette Score: 0.6596309439335789\n",
      "Model 1  ARI Score: -0.00494969888751088\n"
     ]
    }
   ],
   "source": [
    "scores(X_scaled, kmeans_mod1, true_label, \"Model 1\")"
   ]
  },
  {
   "cell_type": "markdown",
   "id": "46a25cb7-b0f1-4b7f-9d39-7fd05ba216c9",
   "metadata": {},
   "source": [
    "Silhouette score is high but ARI is very low. Visual display of clusters is not well."
   ]
  },
  {
   "cell_type": "code",
   "execution_count": 23,
   "id": "492b4267-d313-4317-b13b-5e9a83551619",
   "metadata": {},
   "outputs": [],
   "source": [
    "#Calculate the most optimum number of clusters KMeans can distinguish using the elbow method.\n",
    "number_k=range(2,10)\n",
    "inertia=[]\n",
    "for i in number_k:\n",
    "    km=KMeans(n_clusters=i, random_state=44)\n",
    "    km.fit(X_scaled)\n",
    "    inertia.append(km.inertia_)"
   ]
  },
  {
   "cell_type": "code",
   "execution_count": 24,
   "id": "76713db7-8afb-40be-bcc5-a061fdcd788e",
   "metadata": {},
   "outputs": [
    {
     "data": {
      "text/plain": [
       "[242529.06593809626,\n",
       " 231547.9628900354,\n",
       " 224048.03979349672,\n",
       " 219054.91074834525,\n",
       " 214289.4905354405,\n",
       " 210418.38874181046,\n",
       " 205922.34407846804,\n",
       " 201256.086774891]"
      ]
     },
     "execution_count": 24,
     "metadata": {},
     "output_type": "execute_result"
    }
   ],
   "source": [
    "#Output inertia values\n",
    "inertia"
   ]
  },
  {
   "cell_type": "code",
   "execution_count": 25,
   "id": "b67c74a0-8c35-4fbd-a142-c5e26cd51585",
   "metadata": {},
   "outputs": [
    {
     "data": {
      "text/plain": [
       "Text(0.5, 0, 'K Values')"
      ]
     },
     "execution_count": 25,
     "metadata": {},
     "output_type": "execute_result"
    },
    {
     "data": {
      "image/png": "[encoded data removed]",
      "text/plain": [
       "<Figure size 432x288 with 1 Axes>"
      ]
     },
     "metadata": {
      "needs_background": "light"
     },
     "output_type": "display_data"
    }
   ],
   "source": [
    "#Using the elbow method\n",
    "plt.plot(number_k,inertia)\n",
    "plt.xlabel('K Values')"
   ]
  },
  {
   "cell_type": "markdown",
   "id": "6d047370-b1dd-4cd6-847e-6789d5363a44",
   "metadata": {},
   "source": [
    "The elbow method is not clear about the optimum k value to use. Therefore, silhouette score is used."
   ]
  },
  {
   "cell_type": "code",
   "execution_count": 26,
   "id": "ac674e74-5458-42d5-b4e4-e4207e2d2112",
   "metadata": {},
   "outputs": [],
   "source": [
    "#Find the k-value using KMeans algorithm trained on scaled data\n",
    "sil_score=[]\n",
    "ari_score=[]\n",
    "clusters=[]\n",
    "for i in range(2,11):\n",
    "    km=KMeans(n_clusters=i, random_state=44).fit(X_scaled)\n",
    "    score=metrics.silhouette_score(X_scaled, km.labels_, metric='euclidean')\n",
    "    ar_score=metrics.adjusted_rand_score(true_label, km.labels_)\n",
    "    clusters.append(i)\n",
    "    sil_score.append(score)\n",
    "    ari_score.append(ar_score)"
   ]
  },
  {
   "cell_type": "code",
   "execution_count": 27,
   "id": "b90b8d8b-933b-4c89-af7c-1e69b103b5fd",
   "metadata": {},
   "outputs": [
    {
     "data": {
      "text/html": [
       "<div>\n",
       "<style scoped>\n",
       "    .dataframe tbody tr th:only-of-type {\n",
       "        vertical-align: middle;\n",
       "    }\n",
       "\n",
       "    .dataframe tbody tr th {\n",
       "        vertical-align: top;\n",
       "    }\n",
       "\n",
       "    .dataframe thead th {\n",
       "        text-align: right;\n",
       "    }\n",
       "</style>\n",
       "<table border=\"1\" class=\"dataframe\">\n",
       "  <thead>\n",
       "    <tr style=\"text-align: right;\">\n",
       "      <th></th>\n",
       "      <th>Silhouette Score</th>\n",
       "      <th>ARI Score</th>\n",
       "    </tr>\n",
       "    <tr>\n",
       "      <th>Clusters</th>\n",
       "      <th></th>\n",
       "      <th></th>\n",
       "    </tr>\n",
       "  </thead>\n",
       "  <tbody>\n",
       "    <tr>\n",
       "      <th>2</th>\n",
       "      <td>0.659631</td>\n",
       "      <td>-0.004950</td>\n",
       "    </tr>\n",
       "    <tr>\n",
       "      <th>3</th>\n",
       "      <td>0.125122</td>\n",
       "      <td>0.449891</td>\n",
       "    </tr>\n",
       "    <tr>\n",
       "      <th>4</th>\n",
       "      <td>0.157562</td>\n",
       "      <td>0.244652</td>\n",
       "    </tr>\n",
       "    <tr>\n",
       "      <th>5</th>\n",
       "      <td>0.115728</td>\n",
       "      <td>0.297182</td>\n",
       "    </tr>\n",
       "    <tr>\n",
       "      <th>6</th>\n",
       "      <td>0.200308</td>\n",
       "      <td>0.170799</td>\n",
       "    </tr>\n",
       "    <tr>\n",
       "      <th>7</th>\n",
       "      <td>0.085116</td>\n",
       "      <td>0.317815</td>\n",
       "    </tr>\n",
       "    <tr>\n",
       "      <th>8</th>\n",
       "      <td>0.172139</td>\n",
       "      <td>0.233077</td>\n",
       "    </tr>\n",
       "    <tr>\n",
       "      <th>9</th>\n",
       "      <td>0.105478</td>\n",
       "      <td>0.295101</td>\n",
       "    </tr>\n",
       "    <tr>\n",
       "      <th>10</th>\n",
       "      <td>0.080771</td>\n",
       "      <td>0.304789</td>\n",
       "    </tr>\n",
       "  </tbody>\n",
       "</table>\n",
       "</div>"
      ],
      "text/plain": [
       "          Silhouette Score  ARI Score\n",
       "Clusters                             \n",
       "2                 0.659631  -0.004950\n",
       "3                 0.125122   0.449891\n",
       "4                 0.157562   0.244652\n",
       "5                 0.115728   0.297182\n",
       "6                 0.200308   0.170799\n",
       "7                 0.085116   0.317815\n",
       "8                 0.172139   0.233077\n",
       "9                 0.105478   0.295101\n",
       "10                0.080771   0.304789"
      ]
     },
     "execution_count": 27,
     "metadata": {},
     "output_type": "execute_result"
    }
   ],
   "source": [
    "#Comparing scores for different number of clusters\n",
    "pd.DataFrame({'Clusters':clusters,\n",
    "              'Silhouette Score':sil_score,\n",
    "             'ARI Score':ari_score}).set_index('Clusters')"
   ]
  },
  {
   "cell_type": "code",
   "execution_count": 28,
   "id": "2f2d0f0b-69f1-41ea-81a7-c0d8d3958f20",
   "metadata": {},
   "outputs": [
    {
     "data": {
      "image/png": "[encoded data removed]",
      "text/plain": [
       "<Figure size 432x288 with 1 Axes>"
      ]
     },
     "metadata": {
      "needs_background": "light"
     },
     "output_type": "display_data"
    }
   ],
   "source": [
    "plt.plot(clusters,sil_score,label='sil_score')\n",
    "plt.plot(clusters,ari_score, label='ari_score')\n",
    "plt.title(\"Scores\")\n",
    "plt.xlabel(\"Number of Clusters\")\n",
    "plt.legend()\n",
    "plt.show()"
   ]
  },
  {
   "cell_type": "markdown",
   "id": "132f5382-8825-4c2f-877c-a3b17c3dfc6d",
   "metadata": {},
   "source": [
    "Based on the Silhouette Score, k=2 is the optimum number of clusters. Interestingly, ARI score is really low when true label are compared to the predicted label when k=2 but higher when k=3."
   ]
  },
  {
   "cell_type": "markdown",
   "id": "387597d4-a178-4a97-9a1a-510d5136d3ad",
   "metadata": {
    "tags": []
   },
   "source": [
    "### Model 2: KMeans with PCA Data\n",
    "Model 2 uses PCA applied data to compare how the KMeans will distinguish between scaled data applied data."
   ]
  },
  {
   "cell_type": "code",
   "execution_count": 29,
   "id": "766c5605-f5e9-4ef0-a5cb-b2ee2dedfa53",
   "metadata": {},
   "outputs": [
    {
     "name": "stdout",
     "output_type": "stream",
     "text": [
      "1    4567\n",
      "0      34\n",
      "dtype: int64\n"
     ]
    }
   ],
   "source": [
    "kmeans_mod2=kmeans(pca_data, 2)"
   ]
  },
  {
   "cell_type": "code",
   "execution_count": 30,
   "id": "9c370a9d-e3e2-4be7-a86a-20464891054b",
   "metadata": {},
   "outputs": [
    {
     "data": {
      "image/png": "[encoded data removed]",
      "text/plain": [
       "<Figure size 432x288 with 1 Axes>"
      ]
     },
     "metadata": {
      "needs_background": "light"
     },
     "output_type": "display_data"
    }
   ],
   "source": [
    "display_cluster(pca_data, kmeans_mod2, 2)"
   ]
  },
  {
   "cell_type": "code",
   "execution_count": 31,
   "id": "61ccaf57-29c7-440c-a62f-7ae86182a7be",
   "metadata": {},
   "outputs": [
    {
     "name": "stdout",
     "output_type": "stream",
     "text": [
      "Model 2  Silhouette Score: 0.6662630210357114\n",
      "Model 2  ARI Score: -0.00494969888751088\n"
     ]
    }
   ],
   "source": [
    "scores(pca_data, kmeans_mod2, true_label, \"Model 2\")"
   ]
  },
  {
   "cell_type": "markdown",
   "id": "98b6baf6-92bc-4dd4-8c02-249912c6dc1d",
   "metadata": {},
   "source": [
    "Similar to model 1, silhouette score is high but ari is low. However, visual seperation of the clusters looks better. "
   ]
  },
  {
   "cell_type": "markdown",
   "id": "f675963d-5654-4065-a4bb-6e3be5e3e620",
   "metadata": {
    "tags": []
   },
   "source": [
    "### Model 3: KMeans with UMAP data\n",
    "Model 3 applies UMAP data to the same algorithm as model 2. UMAP is used to cath nonlinear relatinships between variables. "
   ]
  },
  {
   "cell_type": "code",
   "execution_count": 32,
   "id": "0ac10753-490c-4561-8ffe-fc82d042e4ca",
   "metadata": {},
   "outputs": [
    {
     "name": "stdout",
     "output_type": "stream",
     "text": [
      "1    4197\n",
      "0     404\n",
      "dtype: int64\n"
     ]
    }
   ],
   "source": [
    "kmeans_mod3=kmeans(umap_data, 2)"
   ]
  },
  {
   "cell_type": "code",
   "execution_count": 33,
   "id": "18103e6c-6296-48fb-a2e5-9d7d40ac52a0",
   "metadata": {},
   "outputs": [
    {
     "data": {
      "image/png": "[encoded data removed]",
      "text/plain": [
       "<Figure size 432x288 with 1 Axes>"
      ]
     },
     "metadata": {
      "needs_background": "light"
     },
     "output_type": "display_data"
    }
   ],
   "source": [
    "display_cluster(umap_data, kmeans_mod3, 2)"
   ]
  },
  {
   "cell_type": "code",
   "execution_count": 34,
   "id": "6de78b93-fb17-4558-9291-584b19108b4b",
   "metadata": {},
   "outputs": [
    {
     "name": "stdout",
     "output_type": "stream",
     "text": [
      "Model 3  Silhouette Score: 0.50171214\n",
      "Model 3  ARI Score: 0.00996330705308285\n"
     ]
    }
   ],
   "source": [
    "scores(umap_data, kmeans_mod3, true_label, \"Model 3\")"
   ]
  },
  {
   "cell_type": "markdown",
   "id": "da2be894-e3e4-4cc0-a1b6-410e08195d7c",
   "metadata": {},
   "source": [
    "Silhouette score decrease by ARI increased, meaning that more predicted labels were identified when compared to true labels. Visual shows that grouping of clusters improved as well. "
   ]
  },
  {
   "cell_type": "markdown",
   "id": "1f3b349c-34b5-420c-b7af-d377dbcd6d52",
   "metadata": {},
   "source": [
    "### Model 4: Hierarchical Clustering with PCA DATA"
   ]
  },
  {
   "cell_type": "code",
   "execution_count": 35,
   "id": "a7e50a1a-696b-443f-bda7-0a42c739e1f9",
   "metadata": {},
   "outputs": [
    {
     "data": {
      "image/png": "[encoded data removed]",
      "text/plain": [
       "<Figure size 432x288 with 1 Axes>"
      ]
     },
     "metadata": {
      "needs_background": "light"
     },
     "output_type": "display_data"
    },
    {
     "data": {
      "image/png": "[encoded data removed]",
      "text/plain": [
       "<Figure size 432x288 with 1 Axes>"
      ]
     },
     "metadata": {
      "needs_background": "light"
     },
     "output_type": "display_data"
    },
    {
     "data": {
      "image/png": "[encoded data removed]",
      "text/plain": [
       "<Figure size 432x288 with 1 Axes>"
      ]
     },
     "metadata": {
      "needs_background": "light"
     },
     "output_type": "display_data"
    }
   ],
   "source": [
    "#Apply Hierarchical Clustering\n",
    "#Primarily lets use dendogram to visualize our data and to choose our linkage\n",
    "\n",
    "#Creating Dendograms\n",
    "plt.title(\"Complete Dendogram\")\n",
    "dendrogram(linkage(X_scaled, method='complete'))\n",
    "plt.show()\n",
    "\n",
    "plt.title(\"Average Dendogram\")\n",
    "dendrogram(linkage(X_scaled, method='average'))\n",
    "plt.show()\n",
    "\n",
    "plt.title(\"Ward Dendogram\")\n",
    "dendrogram(linkage(X_scaled, method='ward'))\n",
    "plt.show()"
   ]
  },
  {
   "cell_type": "markdown",
   "id": "4f872328-df5e-4d41-bbd1-31d8549affbf",
   "metadata": {},
   "source": [
    "Based on the dendograms of hierachical clustering, ward linkage is better at seperating clusters and will be used for further modeling."
   ]
  },
  {
   "cell_type": "code",
   "execution_count": 36,
   "id": "f06bb7d2-d821-4267-999a-bfe98c4694e3",
   "metadata": {},
   "outputs": [
    {
     "name": "stdout",
     "output_type": "stream",
     "text": [
      "0    4568\n",
      "1      33\n",
      "dtype: int64\n"
     ]
    }
   ],
   "source": [
    "agg_model4=hierarchical(pca_data, 2, 'ward')"
   ]
  },
  {
   "cell_type": "code",
   "execution_count": 37,
   "id": "db9b71ba-3c75-400e-821e-b9616b4076dc",
   "metadata": {},
   "outputs": [
    {
     "data": {
      "image/png": "[encoded data removed]",
      "text/plain": [
       "<Figure size 432x288 with 1 Axes>"
      ]
     },
     "metadata": {
      "needs_background": "light"
     },
     "output_type": "display_data"
    }
   ],
   "source": [
    "#Plot\n",
    "plt.title(\"Model 4\")\n",
    "dendrogram(linkage(agg_model4.children_, method='ward'))\n",
    "plt.show()"
   ]
  },
  {
   "cell_type": "code",
   "execution_count": 38,
   "id": "b40ef539-1995-41ae-bec0-f4a3860c18d7",
   "metadata": {},
   "outputs": [
    {
     "name": "stdout",
     "output_type": "stream",
     "text": [
      "Model 4  Silhouette Score: 0.6668876899287017\n",
      "Model 4  ARI Score: -0.004810540396605019\n"
     ]
    }
   ],
   "source": [
    "scores(pca_data, agg_model4, true_label, \"Model 4\")"
   ]
  },
  {
   "cell_type": "markdown",
   "id": "8a614185-5ff3-4e2e-a1ba-15df9d54da8a",
   "metadata": {},
   "source": [
    "Silhouette is high but ARI is low. Number of labels were not predicted correclty. "
   ]
  },
  {
   "cell_type": "markdown",
   "id": "ea608c6e-f83c-44ec-91bb-1759ae8758c4",
   "metadata": {},
   "source": [
    "### Model 5: Hierarchical Clustering with UMAP Data"
   ]
  },
  {
   "cell_type": "code",
   "execution_count": 39,
   "id": "9cf7f86e-489f-45db-8e51-8a1f930a1990",
   "metadata": {},
   "outputs": [
    {
     "name": "stdout",
     "output_type": "stream",
     "text": [
      "0    4166\n",
      "1     435\n",
      "dtype: int64\n"
     ]
    }
   ],
   "source": [
    "agg_model5=hierarchical(umap_data, 2, 'ward')"
   ]
  },
  {
   "cell_type": "code",
   "execution_count": 40,
   "id": "22046a66-e293-418a-bdb2-141348787868",
   "metadata": {},
   "outputs": [
    {
     "data": {
      "image/png": "[encoded data removed]",
      "text/plain": [
       "<Figure size 432x288 with 1 Axes>"
      ]
     },
     "metadata": {
      "needs_background": "light"
     },
     "output_type": "display_data"
    }
   ],
   "source": [
    "plt.title(\"Model 5\")\n",
    "dendrogram(linkage(agg_model5.children_, method='ward'))\n",
    "plt.show()"
   ]
  },
  {
   "cell_type": "code",
   "execution_count": 41,
   "id": "daadecb6-de69-40d1-9f07-d141a8d47a33",
   "metadata": {},
   "outputs": [
    {
     "name": "stdout",
     "output_type": "stream",
     "text": [
      "Model 5  Silhouette Score: 0.4916757\n",
      "Model 5  ARI Score: 0.009014815295568817\n"
     ]
    }
   ],
   "source": [
    "scores(umap_data, agg_model5, true_label, \"Model 5\")"
   ]
  },
  {
   "cell_type": "markdown",
   "id": "f9c63ad6-abf4-48dd-b25b-b10ba86ca6f1",
   "metadata": {},
   "source": [
    "Silhouette decreased but ARI scores improved compared to previous model. Model was able to predict more labels."
   ]
  },
  {
   "cell_type": "markdown",
   "id": "b9260015-e601-4ec6-9307-1b236132404a",
   "metadata": {},
   "source": [
    "### Results: Model Comparison"
   ]
  },
  {
   "cell_type": "code",
   "execution_count": 42,
   "id": "7b5b2565-c051-4a48-a4e4-6bb98ed8aeae",
   "metadata": {},
   "outputs": [],
   "source": [
    "index=pd.Index([\"Silhouette Score\",\"ARI Score\"])\n",
    "result=pd.concat([Silhouette_Scores,ARI_Scores]).set_index(index).T"
   ]
  },
  {
   "cell_type": "code",
   "execution_count": 43,
   "id": "e00cbdc3-c724-4ac8-978a-121b8b9eb306",
   "metadata": {},
   "outputs": [
    {
     "data": {
      "text/html": [
       "<div>\n",
       "<style scoped>\n",
       "    .dataframe tbody tr th:only-of-type {\n",
       "        vertical-align: middle;\n",
       "    }\n",
       "\n",
       "    .dataframe tbody tr th {\n",
       "        vertical-align: top;\n",
       "    }\n",
       "\n",
       "    .dataframe thead th {\n",
       "        text-align: right;\n",
       "    }\n",
       "</style>\n",
       "<table border=\"1\" class=\"dataframe\">\n",
       "  <thead>\n",
       "    <tr style=\"text-align: right;\">\n",
       "      <th></th>\n",
       "      <th>Silhouette Score</th>\n",
       "      <th>ARI Score</th>\n",
       "    </tr>\n",
       "  </thead>\n",
       "  <tbody>\n",
       "    <tr>\n",
       "      <th>Model 1</th>\n",
       "      <td>0.659631</td>\n",
       "      <td>-0.004950</td>\n",
       "    </tr>\n",
       "    <tr>\n",
       "      <th>Model 2</th>\n",
       "      <td>0.666263</td>\n",
       "      <td>-0.004950</td>\n",
       "    </tr>\n",
       "    <tr>\n",
       "      <th>Model 3</th>\n",
       "      <td>0.501712</td>\n",
       "      <td>0.009963</td>\n",
       "    </tr>\n",
       "    <tr>\n",
       "      <th>Model 4</th>\n",
       "      <td>0.666888</td>\n",
       "      <td>-0.004811</td>\n",
       "    </tr>\n",
       "    <tr>\n",
       "      <th>Model 5</th>\n",
       "      <td>0.491676</td>\n",
       "      <td>0.009015</td>\n",
       "    </tr>\n",
       "  </tbody>\n",
       "</table>\n",
       "</div>"
      ],
      "text/plain": [
       "         Silhouette Score  ARI Score\n",
       "Model 1          0.659631  -0.004950\n",
       "Model 2          0.666263  -0.004950\n",
       "Model 3          0.501712   0.009963\n",
       "Model 4          0.666888  -0.004811\n",
       "Model 5          0.491676   0.009015"
      ]
     },
     "execution_count": 43,
     "metadata": {},
     "output_type": "execute_result"
    }
   ],
   "source": [
    "result"
   ]
  },
  {
   "cell_type": "code",
   "execution_count": 44,
   "id": "46231e10-d6a1-41a2-8002-fc6ce68941a1",
   "metadata": {},
   "outputs": [
    {
     "data": {
      "image/png": "[encoded data removed]",
      "text/plain": [
       "<Figure size 1080x360 with 2 Axes>"
      ]
     },
     "metadata": {
      "needs_background": "light"
     },
     "output_type": "display_data"
    }
   ],
   "source": [
    "plt.figure(figsize=(15,5))\n",
    "plt.subplot(1,2,1)\n",
    "sns.barplot(data=result, x=list(result.index), y=result['Silhouette Score'])\n",
    "plt.subplot(1,2,2)\n",
    "sns.barplot(data=result, x=list(result.index), y=result['ARI Score'])\n",
    "plt.show()"
   ]
  },
  {
   "cell_type": "markdown",
   "id": "f268e06a-e5ad-4f2b-9145-7c91f00f9769",
   "metadata": {},
   "source": [
    "#### Model Performance and Insights\n",
    "    - All 5 models were set to distinguish two clusters, spam and non-spam emails. Each of those models were able to identify a number of spam emails but two were better and comparabable in performance. Model 3 and 5 were able to identify more than 400 spam emails. Between those two, model 3 is superior based on higher ARI score of 0.0099, even though its silhouette score of 0.50 is much lower than silhouette score's of model 1, 2, and 3. However, performance of model 3 is not sufficient for deployment.\n",
    "\n",
    "    - The total spam emails found from 4600 samples accounted for 39.4%. By analyzing the frequency of the words used, it is very clear that words as \"you, your, free, and our\" are a major contributer to an email being spam or not.\n",
    "\n",
    "\n",
    "#### Recommendation:\n",
    "    - Models performance is not enough for deployment. Model needs to be revisited in the future and worked on finding the the best hyperparameters with addition of more data. Other types of clustering algorithms as Guassian Mixture model and DBSCAN, can be attempted.  "
   ]
  }
 ],
 "metadata": {
  "kernelspec": {
   "display_name": "Python 3 (ipykernel)",
   "language": "python",
   "name": "python3"
  },
  "language_info": {
   "codemirror_mode": {
    "name": "ipython",
    "version": 3
   },
   "file_extension": ".py",
   "mimetype": "text/x-python",
   "name": "python",
   "nbconvert_exporter": "python",
   "pygments_lexer": "ipython3",
   "version": "3.9.12"
  }
 },
 "nbformat": 4,
 "nbformat_minor": 5
}
